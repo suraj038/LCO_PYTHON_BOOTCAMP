{
 "cells": [
  {
   "cell_type": "code",
   "execution_count": 14,
   "metadata": {},
   "outputs": [
    {
     "name": "stdout",
     "output_type": "stream",
     "text": [
      "['Mr', 'Mrs', 'Smt']\n"
     ]
    }
   ],
   "source": [
    "import re\n",
    "p = 'Mr. Khanna, Mrs. Khanna and Smt. Pooja lives in this house'\n",
    "print(re.findall(r'[M+S]\\w+',p))"
   ]
  },
  {
   "cell_type": "code",
   "execution_count": 78,
   "metadata": {},
   "outputs": [
    {
     "name": "stdout",
     "output_type": "stream",
     "text": [
      "['2', '0', '33', '789', '4', '7']\n"
     ]
    }
   ],
   "source": [
    "import re\n",
    "p='01 2 0 33 789 005 4 08 7'\n",
    "print(re.findall(r'\\b[1-9]*\\d\\b',p))\n",
    "#print(re.findall(r'\\b\\([1-9]+|\\d)\\b',p))"
   ]
  },
  {
   "cell_type": "code",
   "execution_count": 81,
   "metadata": {},
   "outputs": [
    {
     "name": "stdout",
     "output_type": "stream",
     "text": [
      "['AmaN', 'RamesH']\n"
     ]
    }
   ],
   "source": [
    "import re\n",
    "p= \"AmaN, Raman, Chaman, RamesH\"\n",
    "print(re.findall('[A-Z]\\w+[A-Z]',p))"
   ]
  },
  {
   "cell_type": "code",
   "execution_count": 98,
   "metadata": {},
   "outputs": [
    {
     "name": "stdout",
     "output_type": "stream",
     "text": [
      "['\\\\hello', '#suraj', '\\\\father', '#singh']\n"
     ]
    }
   ],
   "source": [
    "import re\n",
    "p = \"\\\\hello my name is #suraj. my \\\\father name is #singh\"\n",
    "print(re.findall(r'[\\\\#]\\w+',p))"
   ]
  },
  {
   "cell_type": "code",
   "execution_count": 102,
   "metadata": {},
   "outputs": [
    {
     "name": "stdout",
     "output_type": "stream",
     "text": [
      "[('Noah', 'Emma'), ('Liam', 'Olivia'), ('Mason', 'Sophia'), ('Jacob', 'Isabella'), ('William', 'Ava'), ('Ethan', 'Mia')]\n"
     ]
    }
   ],
   "source": [
    "import re\n",
    "str = \"<tr align='center'><td>1</td> <td>Noah</td> <td>Emma</td></tr>\\\n",
    "<tr align='center'><td>2</td> <td>Liam</td> <td>Olivia</td></tr>\\\n",
    "<tr align='center'><td>3</td> <td>Mason</td> <td>Sophia</td></tr>\\\n",
    "<tr align='center'><td>4</td> <td>Jacob</td> <td>Isabella</td></tr>\\\n",
    "<tr align='center'><td>5</td> <td>William</td> <td>Ava</td></tr>\\\n",
    "<tr align='center'><td>6</td> <td>Ethan</td> <td>Mia</td></tr>\\\n",
    "<tr align='center'><td>7</td> <td HTML>Michael</td> <td>Emily</td></tr>\"\n",
    "print(re.findall(r'<td>\\w+</td>\\s<td>(\\w+)</td>\\s<td>(\\w+)</td>',str))"
   ]
  },
  {
   "cell_type": "code",
   "execution_count": 137,
   "metadata": {},
   "outputs": [
    {
     "name": "stdout",
     "output_type": "stream",
     "text": [
      "[]\n"
     ]
    }
   ],
   "source": [
    "import re\n",
    "p=\" lkfgd kljuftydghj jiydthg ,roshan kumar jha, ranjan kumar singh, pankaj kumar veer, suraj singh\"\n",
    "print(re.findall('([A-Z][a-z]*)[\\s-]([A-Z][a-z]*)',p))"
   ]
  },
  {
   "cell_type": "code",
   "execution_count": 140,
   "metadata": {},
   "outputs": [
    {
     "name": "stdout",
     "output_type": "stream",
     "text": [
      "['192', '168', '225', '225']\n"
     ]
    }
   ],
   "source": [
    "import re\n",
    "p = \"192.168.225.225\"\n",
    "print(re.findall('\\d+',p))"
   ]
  },
  {
   "cell_type": "code",
   "execution_count": 149,
   "metadata": {},
   "outputs": [
    {
     "name": "stdout",
     "output_type": "stream",
     "text": [
      "['NItEsh', 'LearnCodeonline']\n"
     ]
    }
   ],
   "source": [
    "import re\n",
    "p = \"hi My name is NItEsh kumar, I am Senior ANdroid devloper and  i woRK in LearnCodeonline.\"\n",
    "print(re.findall(r'[A-Z]\\w+[a-z][A-Z]\\w+',p))"
   ]
  },
  {
   "cell_type": "code",
   "execution_count": null,
   "metadata": {},
   "outputs": [],
   "source": []
  }
 ],
 "metadata": {
  "kernelspec": {
   "display_name": "Python 3",
   "language": "python",
   "name": "python3"
  },
  "language_info": {
   "codemirror_mode": {
    "name": "ipython",
    "version": 3
   },
   "file_extension": ".py",
   "mimetype": "text/x-python",
   "name": "python",
   "nbconvert_exporter": "python",
   "pygments_lexer": "ipython3",
   "version": "3.6.7"
  }
 },
 "nbformat": 4,
 "nbformat_minor": 2
}
