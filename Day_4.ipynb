{
 "cells": [
  {
   "cell_type": "code",
   "execution_count": null,
   "metadata": {},
   "outputs": [],
   "source": [
    "#find pairs in an array which have max sum and min sum\n",
    "\n",
    "l=[int(i) for i in input().split()]\n",
    "l=sorted(l)\n",
    "print('min sum pair:',l[:2],'max sum pair:',l[-2:])\n",
    "    "
   ]
  },
  {
   "cell_type": "code",
   "execution_count": null,
   "metadata": {},
   "outputs": [],
   "source": [
    "n=int(input()) #order of matrix\n",
    "arr = []\n",
    "for i in range(n):\n",
    "    x = [int(i) for i in input().split()]\n",
    "    arr.append(x)\n",
    "    a=0\n",
    "    b=0\n",
    "for i in range(n):\n",
    "    a = a +arr[i][i]\n",
    "    b = b +arr[i][n-i]\n",
    "\n",
    "print(abs(a-b))"
   ]
  },
  {
   "cell_type": "markdown",
   "metadata": {},
   "source": [
    "\n",
    "b=0\n",
    "for i in range(n):\n",
    "    a = a +arr[i][i]\n",
    "    b = b +arr[i][n-i]\n",
    "    print(abs(a-b))"
   ]
  },
  {
   "cell_type": "code",
   "execution_count": null,
   "metadata": {},
   "outputs": [],
   "source": [
    "arr = [int(i) for i in input().split()]\n",
    "a,b,c = [0,0,0]\n",
    "for i in arr:\n",
    "    if i>0:\n",
    "        a=a+1\n",
    "    elif i<0:\n",
    "        b=b+1\n",
    "    else:\n",
    "        c=c+1\n",
    "print(a/len(arr))\n",
    "print(b/len(arr))\n",
    "print(c/len(arr))"
   ]
  },
  {
   "cell_type": "code",
   "execution_count": null,
   "metadata": {},
   "outputs": [],
   "source": [
    "x,y,*z=[1,2,3,4,5,6,7,8,9]\n",
    "print(x)\n",
    "print(y)\n",
    "print(z)"
   ]
  },
  {
   "cell_type": "code",
   "execution_count": null,
   "metadata": {},
   "outputs": [],
   "source": [
    "if print('hello',  end=' '):\n",
    "    print('hello')\n",
    "else:\n",
    "    print('world')"
   ]
  },
  {
   "cell_type": "code",
   "execution_count": null,
   "metadata": {},
   "outputs": [],
   "source": [
    "t = int(input())\n",
    "for i in range(t):\n",
    "    n,k = map(int,input().split())\n",
    "    arr = [int(i) for i in input().split()]\n",
    "    for i in range(0,n,k):\n",
    "        arr[i:i+k] = arr[i:i+k][::-1]\n",
    "        print(' '.join(str(i) for i in arr))"
   ]
  },
  {
   "cell_type": "code",
   "execution_count": null,
   "metadata": {},
   "outputs": [],
   "source": [
    "'|'.join(['s','u','r','a','j'])"
   ]
  },
  {
   "cell_type": "code",
   "execution_count": null,
   "metadata": {},
   "outputs": [],
   "source": [
    "#non-parameterized\n",
    "def pri():\n",
    "    print('hello')\n",
    "pri()"
   ]
  },
  {
   "cell_type": "code",
   "execution_count": null,
   "metadata": {},
   "outputs": [],
   "source": [
    "def add(x,y):\n",
    "    return x+y\n",
    "add(3,4)"
   ]
  },
  {
   "cell_type": "code",
   "execution_count": null,
   "metadata": {},
   "outputs": [],
   "source": [
    "def square(n,p=2):\n",
    "    return n**p\n",
    "square(3,p=2)"
   ]
  },
  {
   "cell_type": "code",
   "execution_count": null,
   "metadata": {},
   "outputs": [],
   "source": [
    "def mul(*args):\n",
    "    j=1\n",
    "    for i in args:\n",
    "        j=j*i\n",
    "    return j\n",
    "mul(1,2,3,4,5,6)"
   ]
  },
  {
   "cell_type": "code",
   "execution_count": null,
   "metadata": {},
   "outputs": [],
   "source": [
    "print(\"WELCOME TO SIMPLE CALCULATOR\")\n",
    "first = float(input(\"Enter the first number :\"))\n",
    "op = input(\"Enter the operator :\")\n",
    "second = float(input(\"Enter the second number :\"))\n",
    "if op == \"+\":\n",
    "    print(first+second)\n",
    "elif op == \"-\":\n",
    "    print(first-second)\n",
    "elif op == \"*\":\n",
    "    print(first*second)\n",
    "elif op == \"/\":\n",
    "    print(first/second)\n",
    "else:\n",
    "    print(\"Wrong Operator\")"
   ]
  },
  {
   "cell_type": "code",
   "execution_count": null,
   "metadata": {},
   "outputs": [],
   "source": [
    "print(\"SIMPLE CALCULATOR\")\n",
    "def add(x,y):\n",
    "    return x+y\n",
    "def sub(x,y):\n",
    "    return x-y\n",
    "def mul(x,y):\n",
    "    return x*y\n",
    "def div(x,y):\n",
    "    return x/y\n",
    "print(\"select operation:\")\n",
    "print(\"1.ADD\")\n",
    "print(\"1.SUB\")\n",
    "print(\"1.MUL\")\n",
    "print(\"1.DIV\")\n",
    "\n",
    "#take input from user\n",
    "choice = input(\"Enter choice(1/2/3/4):\")\n",
    "\n",
    "num1 = int(input(\"Enter first number: \"))\n",
    "print(\"---------------------\")\n",
    "num2 = int(input(\"Enter second number: \"))\n",
    "\n",
    "if choice == '1':\n",
    "   print(num1,\"+\",num2,\"=\", add(num1,num2))\n",
    "elif choice == '2':\n",
    "   print(num1,\"-\",num2,\"=\", sub(num1,num2))\n",
    "elif choice == '3':\n",
    "   print(num1,\"*\",num2,\"=\", mul(num1,num2))\n",
    "elif choice == '4':\n",
    "   print(num1,\"/\",num2,\"=\", div(num1,num2))\n",
    "else:\n",
    "    print(\"INVALID INPUT\")\n",
    "\n"
   ]
  },
  {
   "cell_type": "code",
   "execution_count": null,
   "metadata": {},
   "outputs": [
    {
     "name": "stdout",
     "output_type": "stream",
     "text": [
      "\n",
      "Please type in the math operation you would like to complete:\n",
      "+ for addition\n",
      "- for subtraction\n",
      "* for multiplication\n",
      "/ for division\n",
      "-\n",
      "Please enter the first number: 5\n",
      "Please enter the second number: 9\n",
      "5 - 9 = \n",
      "-4\n"
     ]
    }
   ],
   "source": [
    "def calculate():\n",
    "    operation = input('''\n",
    "Please type in the math operation you would like to complete:\n",
    "+ for addition\n",
    "- for subtraction\n",
    "* for multiplication\n",
    "/ for division\n",
    "''')\n",
    "\n",
    "    number_1 = int(input('Please enter the first number: '))\n",
    "    number_2 = int(input('Please enter the second number: '))\n",
    "\n",
    "    if operation == '+':\n",
    "        print('{} + {} = '.format(number_1, number_2))\n",
    "        print(number_1 + number_2)\n",
    "\n",
    "    elif operation == '-':\n",
    "        print('{} - {} = '.format(number_1, number_2))\n",
    "        print(number_1 - number_2)\n",
    "\n",
    "    elif operation == '*':\n",
    "        print('{} * {} = '.format(number_1, number_2))\n",
    "        print(number_1 * number_2)\n",
    "\n",
    "    elif operation == '/':\n",
    "        print('{} / {} = '.format(number_1, number_2))\n",
    "        print(number_1 / number_2)\n",
    "\n",
    "    else:\n",
    "        print('You have not typed a valid operator, please run the program again.')\n",
    "\n",
    "    # Add again() function to calculate() function\n",
    "    again()\n",
    "\n",
    "def again():\n",
    "    calc_again = input('''\n",
    "Do you want to calculate again?\n",
    "Please type Y for YES or N for NO.\n",
    "''')\n",
    "\n",
    "    if calc_again.upper() == 'Y':\n",
    "        calculate()\n",
    "    elif calc_again.upper() == 'N':\n",
    "        print('See you later.')\n",
    "    else:\n",
    "        again()\n",
    "\n",
    "calculate()"
   ]
  },
  {
   "cell_type": "code",
   "execution_count": null,
   "metadata": {},
   "outputs": [],
   "source": []
  }
 ],
 "metadata": {
  "kernelspec": {
   "display_name": "Python 3",
   "language": "python",
   "name": "python3"
  },
  "language_info": {
   "codemirror_mode": {
    "name": "ipython",
    "version": 3
   },
   "file_extension": ".py",
   "mimetype": "text/x-python",
   "name": "python",
   "nbconvert_exporter": "python",
   "pygments_lexer": "ipython3",
   "version": "3.6.7"
  }
 },
 "nbformat": 4,
 "nbformat_minor": 2
}
