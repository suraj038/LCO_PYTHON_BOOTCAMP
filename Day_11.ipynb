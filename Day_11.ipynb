{
 "cells": [
  {
   "cell_type": "code",
   "execution_count": 1,
   "metadata": {},
   "outputs": [
    {
     "name": "stdout",
     "output_type": "stream",
     "text": [
      "['1', '1', '4', '1', '8', '8', '6']\n",
      "['11', '4', '1886']\n"
     ]
    }
   ],
   "source": [
    "import re \n",
    "\n",
    "# \\d is equivalent to [0-9]. \n",
    "p = re.compile('\\d') \n",
    "print(p.findall(\"I went to him at 11 A.M. on 4th July 1886\")) \n",
    "\n",
    "# \\d+ will match a group on [0-9], group of one or greater size \n",
    "p = re.compile('\\d+') \n",
    "print(p.findall(\"I went to him at 11 A.M. on 4th July 1886\")) \n"
   ]
  },
  {
   "cell_type": "code",
   "execution_count": 2,
   "metadata": {},
   "outputs": [
    {
     "name": "stdout",
     "output_type": "stream",
     "text": [
      "['H', 'e', 's', 'a', 'i', 'd', 'i', 'n', 's', 'o', 'm', 'e', '_', 'l', 'a', 'n', 'g']\n",
      "['I', 'went', 'to', 'him', 'at', '11', 'A', 'M', 'he', 'said', 'in', 'some_language']\n",
      "[' ', ' ', '*', '*', '*', ' ', ' ', '.']\n"
     ]
    }
   ],
   "source": [
    "import re \n",
    "\n",
    "# \\w is equivalent to [a-zA-Z0-9_]. \n",
    "p = re.compile('\\w') \n",
    "print(p.findall(\"He said * in some_lang.\")) \n",
    "\n",
    "# \\w+ matches to group of alphanumeric charcter. \n",
    "p = re.compile('\\w+') \n",
    "print(p.findall(\"I went to him at 11 A.M., he said *** in some_language.\")) \n",
    "\n",
    "# \\W matches to non alphanumeric characters. \n",
    "p = re.compile('\\W') \n",
    "print(p.findall(\"he said *** in some_language.\")) \n"
   ]
  },
  {
   "cell_type": "code",
   "execution_count": 3,
   "metadata": {},
   "outputs": [
    {
     "name": "stdout",
     "output_type": "stream",
     "text": [
      "['ab', 'abb', 'a', 'abbb']\n"
     ]
    }
   ],
   "source": [
    "import re \n",
    "\n",
    "# '*' replaces the no. of occurrence of a character. \n",
    "p = re.compile('ab*') \n",
    "print(p.findall(\"ababbaabbb\")) \n"
   ]
  },
  {
   "cell_type": "code",
   "execution_count": 5,
   "metadata": {},
   "outputs": [
    {
     "name": "stdout",
     "output_type": "stream",
     "text": [
      "['123456789', '987654321']\n"
     ]
    }
   ],
   "source": [
    "# A Python program to demonstrate working of \n",
    "# findall() \n",
    "import re \n",
    "\n",
    "# A sample text string where regular expression \n",
    "# is searched. \n",
    "string = \"\"\"Hello my Number is 123456789 and \n",
    "\t\t\tmy friend's number is 987654321\"\"\"\n",
    "\n",
    "# A sample regular expression to find digits. \n",
    "regex = '\\d+'\t\t\t\n",
    "\n",
    "match = re.findall(regex, string) \n",
    "print(match) \n",
    " \n"
   ]
  },
  {
   "cell_type": "code",
   "execution_count": 6,
   "metadata": {},
   "outputs": [
    {
     "name": "stdout",
     "output_type": "stream",
     "text": [
      "['shubhamg199630@gmail.com', 'priya@yahoo.com']\n"
     ]
    }
   ],
   "source": [
    "# Python program to extract emails From \n",
    "# the String By Regular Expression. \n",
    "\n",
    "# Importing module required for regular \n",
    "# expressions \n",
    "import re \n",
    "\n",
    "# Example string \n",
    "s = 'Hello from shubhamg199630@gmail.com to priya@yahoo.com about the meeting @2PM'\n",
    "\n",
    "# \\S matches any non-whitespace character \n",
    "# @ for as in the Email \n",
    "# + for Repeats a character one or more times \n",
    "lst = re.findall('\\S+@\\S+', s)\t \n",
    "\n",
    "# Printing of List \n",
    "print(lst) \n"
   ]
  },
  {
   "cell_type": "code",
   "execution_count": 56,
   "metadata": {},
   "outputs": [
    {
     "name": "stdout",
     "output_type": "stream",
     "text": [
      "345 43 42\n"
     ]
    }
   ],
   "source": [
    "# Python3 program to extract all the numbers from a string \n",
    "import re  \n",
    "def getNumbers(str): \n",
    "\tarray = re.findall(r'[0-9]+', str) \n",
    "\treturn array \n",
    "str = \"adbv345hj43hvb42\"\n",
    "array = getNumbers(str) \n",
    "print(*array) \n"
   ]
  },
  {
   "cell_type": "code",
   "execution_count": 46,
   "metadata": {},
   "outputs": [
    {
     "name": "stdout",
     "output_type": "stream",
     "text": [
      "['492', '40', '402', '44', '40', '4108', '4046', '492', '+31', '+31', '456', '+7', '+79', '+7911', '456', '+44', '+44', '456', '+44', '456', '+447911123456', '456', '+44', '456', '46', '485', '+31', '+31', '40', '4165518141644080', '463', '416', '40', '402', '44', '40']\n"
     ]
    }
   ],
   "source": [
    "\n",
    "import re\n",
    "import requests\n",
    "\n",
    "response = requests.get(\"https://www.cm.com/blog/how-to-format-international-telephone-numbers/\")\n",
    "#soup=BeautifulSoup(html,\"lxml\")\n",
    "print(re.findall(\"[\\+44]\\d+\",response.text))    "
   ]
  },
  {
   "cell_type": "code",
   "execution_count": 69,
   "metadata": {},
   "outputs": [
    {
     "name": "stdout",
     "output_type": "stream",
     "text": [
      "['cat', 'mat', 'hat', 'pat', 'pat', 'wat', 'seat']\n"
     ]
    }
   ],
   "source": [
    "import re \n",
    "s=\"cat mat hat pat jot pat wat wta seat\"\n",
    "\n",
    "print(re.findall(r\"[a-z]+at\",s)) \n"
   ]
  },
  {
   "cell_type": "code",
   "execution_count": 71,
   "metadata": {},
   "outputs": [
    {
     "name": "stdout",
     "output_type": "stream",
     "text": [
      "['cat', 'mat', 'hat', 'pat', 'pat', 'wat', 'eat']\n"
     ]
    }
   ],
   "source": [
    "import re \n",
    "s=\"cat mat hat pat jot pat wat wta seat\"\n",
    "\n",
    "print(re.findall(r\"\\wat\\b\",s)) \n"
   ]
  },
  {
   "cell_type": "code",
   "execution_count": 77,
   "metadata": {},
   "outputs": [
    {
     "ename": "TypeError",
     "evalue": "expected string or bytes-like object",
     "output_type": "error",
     "traceback": [
      "\u001b[1;31m---------------------------------------------------------------------------\u001b[0m",
      "\u001b[1;31mTypeError\u001b[0m                                 Traceback (most recent call last)",
      "\u001b[1;32m<ipython-input-77-5b3e5b474dff>\u001b[0m in \u001b[0;36m<module>\u001b[1;34m\u001b[0m\n\u001b[0;32m      1\u001b[0m \u001b[1;32mimport\u001b[0m \u001b[0mre\u001b[0m\u001b[1;33m\u001b[0m\u001b[1;33m\u001b[0m\u001b[0m\n\u001b[0;32m      2\u001b[0m \u001b[0ms\u001b[0m \u001b[1;33m=\u001b[0m \u001b[1;33m[\u001b[0m\u001b[1;34m'Alice eats apples.'\u001b[0m\u001b[1;33m,\u001b[0m \u001b[1;34m'Bob pets cats.'\u001b[0m\u001b[1;33m,\u001b[0m\u001b[1;34m'Carol throws baseballs.'\u001b[0m\u001b[1;33m,\u001b[0m\u001b[1;34m'Alice throws Apples.'\u001b[0m\u001b[1;33m,\u001b[0m\u001b[1;34m'BOB EATS CATS.'\u001b[0m\u001b[1;33m,\u001b[0m\u001b[1;34m'RoboCop eats apples.'\u001b[0m\u001b[1;33m,\u001b[0m\u001b[1;34m'ALICE THROWS FOOTBALLS.'\u001b[0m\u001b[1;33m,\u001b[0m\u001b[1;34m'Carol eats 7 cats.'\u001b[0m\u001b[1;33m]\u001b[0m\u001b[1;33m\u001b[0m\u001b[1;33m\u001b[0m\u001b[0m\n\u001b[1;32m----> 3\u001b[1;33m \u001b[0mprint\u001b[0m\u001b[1;33m(\u001b[0m\u001b[0mre\u001b[0m\u001b[1;33m.\u001b[0m\u001b[0mfindall\u001b[0m\u001b[1;33m(\u001b[0m\u001b[1;34mr\"[a-z][A-Z]\"\u001b[0m\u001b[1;33m,\u001b[0m\u001b[0ms\u001b[0m\u001b[1;33m)\u001b[0m\u001b[1;33m)\u001b[0m\u001b[1;33m\u001b[0m\u001b[1;33m\u001b[0m\u001b[0m\n\u001b[0m",
      "\u001b[1;32m~\\Anaconda3\\lib\\re.py\u001b[0m in \u001b[0;36mfindall\u001b[1;34m(pattern, string, flags)\u001b[0m\n\u001b[0;32m    220\u001b[0m \u001b[1;33m\u001b[0m\u001b[0m\n\u001b[0;32m    221\u001b[0m     Empty matches are included in the result.\"\"\"\n\u001b[1;32m--> 222\u001b[1;33m     \u001b[1;32mreturn\u001b[0m \u001b[0m_compile\u001b[0m\u001b[1;33m(\u001b[0m\u001b[0mpattern\u001b[0m\u001b[1;33m,\u001b[0m \u001b[0mflags\u001b[0m\u001b[1;33m)\u001b[0m\u001b[1;33m.\u001b[0m\u001b[0mfindall\u001b[0m\u001b[1;33m(\u001b[0m\u001b[0mstring\u001b[0m\u001b[1;33m)\u001b[0m\u001b[1;33m\u001b[0m\u001b[1;33m\u001b[0m\u001b[0m\n\u001b[0m\u001b[0;32m    223\u001b[0m \u001b[1;33m\u001b[0m\u001b[0m\n\u001b[0;32m    224\u001b[0m \u001b[1;32mdef\u001b[0m \u001b[0mfinditer\u001b[0m\u001b[1;33m(\u001b[0m\u001b[0mpattern\u001b[0m\u001b[1;33m,\u001b[0m \u001b[0mstring\u001b[0m\u001b[1;33m,\u001b[0m \u001b[0mflags\u001b[0m\u001b[1;33m=\u001b[0m\u001b[1;36m0\u001b[0m\u001b[1;33m)\u001b[0m\u001b[1;33m:\u001b[0m\u001b[1;33m\u001b[0m\u001b[1;33m\u001b[0m\u001b[0m\n",
      "\u001b[1;31mTypeError\u001b[0m: expected string or bytes-like object"
     ]
    }
   ],
   "source": [
    "import re\n",
    "s = ['Alice eats apples.', 'Bob pets cats.','Carol throws baseballs.','Alice throws Apples.','BOB EATS CATS.','RoboCop eats apples.','ALICE THROWS FOOTBALLS.','Carol eats 7 cats.']\n",
    "for i in s:\n",
    "    \n",
    "print(re.findall(r\"[a-z][A-Z]\",s))"
   ]
  },
  {
   "cell_type": "code",
   "execution_count": 89,
   "metadata": {},
   "outputs": [
    {
     "name": "stdout",
     "output_type": "stream",
     "text": [
      "['intelact17@gmail.com.', 'intelact17@gmail.com.', 'intelact17@gmail.com.', 'aditiv@indeed.com']\n"
     ]
    }
   ],
   "source": [
    "import re\n",
    "import requests\n",
    "\n",
    "response = requests.get(\"https://www.indeed.co.in/Email-Id-jobs-in-Jaipur,-Rajasthan\")\n",
    "print(re.findall(r'[\\w\\.-]+@[\\w\\.-]+',response.text))\n"
   ]
  },
  {
   "cell_type": "code",
   "execution_count": 92,
   "metadata": {},
   "outputs": [
    {
     "name": "stdout",
     "output_type": "stream",
     "text": [
      "['team@learncodeonline.in', 'team@learncodeonline.in', 'saksham@learncodeonline.in', 'team@learncodeonline.in', 'team@learncodeonline.in', 'hitesh@hiteshchoudhary.com']\n"
     ]
    }
   ],
   "source": [
    "import re\n",
    "import requests\n",
    "\n",
    "response = requests.get(\"https://learncodeonline.in/\")\n",
    "print(re.findall(r'[\\w\\.-]+@[\\w\\.-]+',response.text))\n"
   ]
  },
  {
   "cell_type": "code",
   "execution_count": null,
   "metadata": {},
   "outputs": [],
   "source": []
  }
 ],
 "metadata": {
  "kernelspec": {
   "display_name": "Python 3",
   "language": "python",
   "name": "python3"
  },
  "language_info": {
   "codemirror_mode": {
    "name": "ipython",
    "version": 3
   },
   "file_extension": ".py",
   "mimetype": "text/x-python",
   "name": "python",
   "nbconvert_exporter": "python",
   "pygments_lexer": "ipython3",
   "version": "3.6.7"
  }
 },
 "nbformat": 4,
 "nbformat_minor": 2
}
