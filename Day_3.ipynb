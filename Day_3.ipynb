{
 "cells": [
  {
   "cell_type": "code",
   "execution_count": null,
   "metadata": {},
   "outputs": [],
   "source": [
    "for i in range(0,10):\n",
    "    print(i)"
   ]
  },
  {
   "cell_type": "code",
   "execution_count": null,
   "metadata": {},
   "outputs": [],
   "source": [
    "if 5>10:\n",
    "    print(\"true\")\n",
    "else:\n",
    "    print(\"false\")"
   ]
  },
  {
   "cell_type": "code",
   "execution_count": null,
   "metadata": {},
   "outputs": [],
   "source": [
    "if 3>0:\n",
    "    print(\"hey\")\n",
    "elif 2>23:\n",
    "    print(\"hello\")"
   ]
  },
  {
   "cell_type": "code",
   "execution_count": null,
   "metadata": {},
   "outputs": [],
   "source": [
    "num = int(input(\"Enter a number: \"))\n",
    "if (num % 2) == 0:\n",
    "   print(\"{0} is Even\".format(num))\n",
    "else:\n",
    "   print(\"{0} is Odd\".format(num))"
   ]
  },
  {
   "cell_type": "code",
   "execution_count": null,
   "metadata": {},
   "outputs": [],
   "source": [
    "a=input('Enter the ID:')\n",
    "b=input('enter the pass:')\n",
    "c=\"suraj\"\n",
    "d=\"surya\"\n",
    "if a==c and b==d:\n",
    "    print(\"u r logged in\")\n",
    "else:\n",
    "    print(\"user wrong\")"
   ]
  },
  {
   "cell_type": "code",
   "execution_count": null,
   "metadata": {},
   "outputs": [],
   "source": [
    "#login and signup\n",
    "d = {}\n",
    "d['name'] = ['suraj','singh','kumar']\n",
    "d['pwd'] = ['123','456','789']\n",
    "\n",
    "#chs=input(\"welcome to my class\\n1.login\\n2.sign_up\\n\")\n",
    "\n",
    "chs = int(input(\"1.Login  2.Register   3.Exit : \"))\n",
    "if chs ==1:\n",
    "     userid = input(\"ENTER YOUR USER ID : \")\n",
    "     pwd = input(\"ENTER YOUR PASSWORD : \")\n",
    "     if userid == d['name'][d[\"pwd\"].index(pwd)] and pwd == d[\"pwd\"][d[\"name\"].index(userid)]:\n",
    "        print(\"\\n\\nYOU ARE LOGGED IN\\n\\n\")\n",
    "     else:\n",
    "        print(\"WRONG CREDENTIALS, Please check your email and pwd\")\n",
    "elif chs == 3:\n",
    "    print(\"ThankYou For Using My ATM , Bye !!\")\n",
    "    break\n",
    "        \n"
   ]
  },
  {
   "cell_type": "code",
   "execution_count": null,
   "metadata": {},
   "outputs": [],
   "source": [
    "d={}\n",
    "d['name'] = ['suraj','singh','kumar']\n",
    "d['pwd'] = ['123','456','789']\n",
    "d['bal'] = [5000,2000,3000]\n"
   ]
  },
  {
   "cell_type": "code",
   "execution_count": null,
   "metadata": {},
   "outputs": [],
   "source": [
    "d\n"
   ]
  },
  {
   "cell_type": "code",
   "execution_count": null,
   "metadata": {},
   "outputs": [],
   "source": [
    "while True:\n",
    "    \n",
    "    chs = int(input(\"1.Login  2.Register   3.Exit : \"))\n",
    "    if chs ==1:\n",
    "        userid = input(\"ENTER YOUR USER ID : \")\n",
    "        pwd = input(\"ENTER YOUR PASSWORD : \")\n",
    "        if userid == d['name'][d[\"pwd\"].index(pwd)] and pwd == d[\"pwd\"][d[\"name\"].index(userid)]:\n",
    "            print(\"\\n\\nYOU ARE LOGGED IN\\n\\n\")\n",
    "            \n",
    "            atm = int(input(\"1.CASH_WITHDRAWL   2.MINI_STATEMENT   3.CHANGE_PASS:\"))\n",
    "            if atm == 1:\n",
    "                cash = int(input(\"1.100    2.500    3.100 :\"))\n",
    "                if cash == 1:\n",
    "                    x = d['bal'][d['name'].index(userid)]\n",
    "                    x = x-100\n",
    "                    print(\"AVAILABLE BALANCE:\",x)\n",
    "                    d['bal'][d['name'].index(userid)] = x\n",
    "                elif cash == 2:\n",
    "                    x = d['bal'][d['name'].index(userid)]\n",
    "                    x = x-500\n",
    "                    print(\"AVAILABLE BALANCE:\",x)\n",
    "                    d['bal'][d['name'].index(userid)] = x\n",
    "                else:\n",
    "                    x = d['bal'][d['name'].index(userid)]\n",
    "                    x = x-1000\n",
    "                    print(\"AVAILABLE BALANCE:\",x)\n",
    "                    d['bal'][d['name'].index(userid)] = x\n",
    "            if atm == 2:\n",
    "                mini =  d['bal'][d['name'].index(userid)]\n",
    "                print(\"AVAILABLE BALANCE:\",mini)\n",
    "            if atm == 3:\n",
    "                newpwd = input(\"ENTER NEW PASSWORD:\")\n",
    "                d[\"pwd\"][d[\"name\"].index(userid)] = newpwd\n",
    "                print(\"password updated\")\n",
    "        else:\n",
    "            print(\"WRONG CREDENTIALS, Please check your email and pwd\")\n",
    "    elif chs == 3:\n",
    "        print(\"ThankYou For Using My ATM , Bye !!\")\n",
    "        break\n",
    "        "
   ]
  },
  {
   "cell_type": "code",
   "execution_count": null,
   "metadata": {},
   "outputs": [],
   "source": [
    "#find pairs in an array which have max sum and min sum\n",
    "\n",
    "l=[int(i) for i in input().split()]\n",
    "l=sorted(l)\n",
    "print('max sum pair:'l[:2],'min sum pair:'l[:-2])\n",
    "    "
   ]
  },
  {
   "cell_type": "code",
   "execution_count": null,
   "metadata": {},
   "outputs": [],
   "source": [
    "n=int(input()) #order of matrix\n",
    "arr = []\n",
    "for i in range(n):\n",
    "    x = [int(i) for i in input().split()]\n",
    "    arr.append(x)\n",
    "    a=0\n",
    "    b=0\n",
    "for i in range(n):\n",
    "    a = a +arr[i][i]\n",
    "    b = b +arr[i][n-i]\n",
    "\n",
    "print(arr)"
   ]
  },
  {
   "cell_type": "markdown",
   "metadata": {},
   "source": [
    "a=0\n",
    "b=0\n",
    "for i in range(n):\n",
    "    a = a +arr[i][i]\n",
    "    b = b +arr[i][n-i]\n",
    "    print(abs(a-b))"
   ]
  },
  {
   "cell_type": "code",
   "execution_count": null,
   "metadata": {},
   "outputs": [],
   "source": [
    "arr = [int(i) for i in input().split()]\n",
    "a,b,c = [0,0,0]\n",
    "for i in arr:\n",
    "    if i>0:\n",
    "        a=a+1\n",
    "    elif i<0:\n",
    "        b=b+1\n",
    "    else:\n",
    "        c=c+1\n",
    "print(a/len(arr))\n",
    "print(b/len(arr))\n",
    "print(c/len(arr))"
   ]
  },
  {
   "cell_type": "code",
   "execution_count": null,
   "metadata": {},
   "outputs": [],
   "source": [
    "x,y,*z=[1,2,3,4,5,6,7,8,9]\n",
    "print(x)\n",
    "print(y)\n",
    "print(z)"
   ]
  },
  {
   "cell_type": "code",
   "execution_count": null,
   "metadata": {},
   "outputs": [],
   "source": [
    "if print('hello',  end=' '):\n",
    "    print('hello')\n",
    "else:\n",
    "    print('world')"
   ]
  },
  {
   "cell_type": "code",
   "execution_count": null,
   "metadata": {},
   "outputs": [],
   "source": [
    "t = int(input())\n",
    "for i in range(t):\n",
    "    n,k = map(int,input().split())\n",
    "    arr = [int(i) for i in input().split()]\n",
    "    for i in range(0,n,k):\n",
    "        arr[i:i+k] = arr[i:i+k][::-1]\n",
    "        print(' '.join(str(i) for i in arr))"
   ]
  },
  {
   "cell_type": "code",
   "execution_count": null,
   "metadata": {},
   "outputs": [],
   "source": [
    "'|'.join(['s','u','r','a','j'])"
   ]
  },
  {
   "cell_type": "code",
   "execution_count": 3,
   "metadata": {},
   "outputs": [
    {
     "name": "stdout",
     "output_type": "stream",
     "text": [
      "hello\n"
     ]
    }
   ],
   "source": [
    "#non-parameterized\n",
    "def pri():\n",
    "    print('hello')\n",
    "pri()"
   ]
  },
  {
   "cell_type": "code",
   "execution_count": 4,
   "metadata": {},
   "outputs": [
    {
     "data": {
      "text/plain": [
       "7"
      ]
     },
     "execution_count": 4,
     "metadata": {},
     "output_type": "execute_result"
    }
   ],
   "source": [
    "def add(x,y):\n",
    "    return x+y\n",
    "add(3,4)"
   ]
  },
  {
   "cell_type": "code",
   "execution_count": 6,
   "metadata": {},
   "outputs": [
    {
     "data": {
      "text/plain": [
       "9"
      ]
     },
     "execution_count": 6,
     "metadata": {},
     "output_type": "execute_result"
    }
   ],
   "source": [
    "def square(n,p=2):\n",
    "    return n**p\n",
    "square(3,p=2)"
   ]
  },
  {
   "cell_type": "code",
   "execution_count": 7,
   "metadata": {},
   "outputs": [
    {
     "data": {
      "text/plain": [
       "720"
      ]
     },
     "execution_count": 7,
     "metadata": {},
     "output_type": "execute_result"
    }
   ],
   "source": [
    "def mul(*args):\n",
    "    j=1\n",
    "    for i in args:\n",
    "        j=j*i\n",
    "    return j\n",
    "mul(1,2,3,4,5,6)"
   ]
  },
  {
   "cell_type": "code",
   "execution_count": null,
   "metadata": {},
   "outputs": [],
   "source": []
  }
 ],
 "metadata": {
  "kernelspec": {
   "display_name": "Python 3",
   "language": "python",
   "name": "python3"
  },
  "language_info": {
   "codemirror_mode": {
    "name": "ipython",
    "version": 3
   },
   "file_extension": ".py",
   "mimetype": "text/x-python",
   "name": "python",
   "nbconvert_exporter": "python",
   "pygments_lexer": "ipython3",
   "version": "3.6.7"
  }
 },
 "nbformat": 4,
 "nbformat_minor": 2
}
