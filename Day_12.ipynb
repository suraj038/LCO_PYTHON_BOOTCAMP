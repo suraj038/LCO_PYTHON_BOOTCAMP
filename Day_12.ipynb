{
 "cells": [
  {
   "cell_type": "code",
   "execution_count": 1,
   "metadata": {},
   "outputs": [
    {
     "name": "stdout",
     "output_type": "stream",
     "text": [
      "['team@learncodeonline.in', 'team@learncodeonline.in', 'saksham@learncodeonline.in', 'team@learncodeonline.in', 'team@learncodeonline.in', 'hitesh@hiteshchoudhary.com']\n"
     ]
    }
   ],
   "source": [
    "import re\n",
    "import requests\n",
    "\n",
    "response = requests.get(\"https://learncodeonline.in/\")\n",
    "print(re.findall(r'[\\w\\.-]+@[\\w\\.-]+',response.text))\n"
   ]
  },
  {
   "cell_type": "code",
   "execution_count": 7,
   "metadata": {},
   "outputs": [
    {
     "name": "stdout",
     "output_type": "stream",
     "text": [
      "Enter your passwordR@m@_f0rtu9e$\n",
      "Valid Password\n"
     ]
    }
   ],
   "source": [
    "import re \n",
    "#password = \"R@m@_f0rtu9e$\"\n",
    "password=input(\"Enter your password\")\n",
    "flag = 0\n",
    "while True: \n",
    "\tif (len(password)<8): \n",
    "\t\tflag = -1\n",
    "\t\tbreak\n",
    "\telif not re.search(\"[a-z]\", password): \n",
    "\t\tflag = -1\n",
    "\t\tbreak\n",
    "\telif not re.search(\"[A-Z]\", password): \n",
    "\t\tflag = -1\n",
    "\t\tbreak\n",
    "\telif not re.search(\"[0-9]\", password): \n",
    "\t\tflag = -1\n",
    "\t\tbreak\n",
    "\telif not re.search(\"[_@$]\", password): \n",
    "\t\tflag = -1\n",
    "\t\tbreak\n",
    "\telif re.search(\"\\s\", password): \n",
    "\t\tflag = -1\n",
    "\t\tbreak\n",
    "\telse: \n",
    "\t\tflag = 0\n",
    "\t\tprint(\"Valid Password\") \n",
    "\t\tbreak\n",
    "\n",
    "if flag ==-1: \n",
    "\tprint(\"Not a Valid Password\") \n"
   ]
  },
  {
   "cell_type": "code",
   "execution_count": 15,
   "metadata": {},
   "outputs": [
    {
     "name": "stdout",
     "output_type": "stream",
     "text": [
      "Input your passwordW3r@100a \n",
      "Not a Valid Password\n"
     ]
    }
   ],
   "source": [
    "import re\n",
    "p= input(\"Input your password\")\n",
    "x = True\n",
    "while x:  \n",
    "    if (len(p)<6 or len(p)>12):\n",
    "        break\n",
    "    elif not re.search(\"[a-z]\",p):\n",
    "        break\n",
    "    elif not re.search(\"[0-9]\",p):\n",
    "        break\n",
    "    elif not re.search(\"[A-Z]\",p):\n",
    "        break\n",
    "    elif not re.search(\"[$#@]\",p):\n",
    "        break\n",
    "    elif re.search(\"\\s\",p):\n",
    "        break\n",
    "    else:\n",
    "        print(\"Valid Password\")\n",
    "        x=False\n",
    "        break\n",
    "\n",
    "if x:\n",
    "    print(\"Not a Valid Password\")\n"
   ]
  },
  {
   "cell_type": "code",
   "execution_count": null,
   "metadata": {},
   "outputs": [],
   "source": []
  }
 ],
 "metadata": {
  "kernelspec": {
   "display_name": "Python 3",
   "language": "python",
   "name": "python3"
  },
  "language_info": {
   "codemirror_mode": {
    "name": "ipython",
    "version": 3
   },
   "file_extension": ".py",
   "mimetype": "text/x-python",
   "name": "python",
   "nbconvert_exporter": "python",
   "pygments_lexer": "ipython3",
   "version": "3.6.7"
  }
 },
 "nbformat": 4,
 "nbformat_minor": 2
}
